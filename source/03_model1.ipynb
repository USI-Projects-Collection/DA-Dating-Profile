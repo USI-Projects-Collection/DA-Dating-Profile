{
 "cells": [
  {
   "cell_type": "code",
   "execution_count": 10,
   "id": "f6c819d0",
   "metadata": {},
   "outputs": [
    {
     "name": "stdout",
     "output_type": "stream",
     "text": [
      " ratings:\n",
      "userID         int64\n",
      "profileID      int64\n",
      "rating       float32\n",
      "dtype: object\n",
      "\n",
      " gender:\n",
      "userID       int64\n",
      "gender    category\n",
      "dtype: object\n"
     ]
    }
   ],
   "source": [
    "import pandas as pd\n",
    "import torch\n",
    "from pathlib import Path\n",
    "\n",
    "PROJECT_ROOT = Path().resolve().parent\n",
    "RAW_PATH = PROJECT_ROOT / \"data\"\n",
    "PROCESSED_PATH = RAW_PATH / \"processed\"\n",
    "\n",
    "# Load the data\n",
    "ratings = pd.read_pickle(PROCESSED_PATH / \"proc_ratings.pkl\")\n",
    "ratings_test = pd.read_pickle(PROCESSED_PATH / \"proc_ratings_test.pkl\")\n",
    "gender = pd.read_pickle(PROCESSED_PATH / \"proc_gender.pkl\")\n",
    "\n",
    "# check the data types\n",
    "print(f\" ratings:\")\n",
    "print(ratings.dtypes)\n",
    "print(\"\\n gender:\")\n",
    "print(gender.dtypes)"
   ]
  },
  {
   "cell_type": "code",
   "execution_count": 7,
   "id": "fe2b9f91",
   "metadata": {},
   "outputs": [],
   "source": [
    "user_ids = torch.tensor(ratings[\"userID\"].values, dtype=torch.long)\n",
    "profile_ids = torch.tensor(ratings[\"profileID\"].values, dtype=torch.long)\n",
    "ratings_tensor = torch.tensor(ratings[\"rating\"].values, dtype=torch.float32)"
   ]
  }
 ],
 "metadata": {
  "kernelspec": {
   "display_name": "da-env",
   "language": "python",
   "name": "python3"
  },
  "language_info": {
   "codemirror_mode": {
    "name": "ipython",
    "version": 3
   },
   "file_extension": ".py",
   "mimetype": "text/x-python",
   "name": "python",
   "nbconvert_exporter": "python",
   "pygments_lexer": "ipython3",
   "version": "3.10.17"
  }
 },
 "nbformat": 4,
 "nbformat_minor": 5
}
