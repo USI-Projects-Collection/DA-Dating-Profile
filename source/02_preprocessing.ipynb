{
 "cells": [
  {
   "cell_type": "code",
   "execution_count": 64,
   "id": "58adf448",
   "metadata": {},
   "outputs": [],
   "source": [
    "import pandas as pd\n",
    "from pathlib import Path\n",
    "\n",
    "PROJECT_ROOT = Path().resolve().parent\n",
    "RAW_PATH = PROJECT_ROOT / \"data\"\n",
    "PROCESSED_PATH = RAW_PATH / \"processed\"\n",
    "PROCESSED_PATH.mkdir(parents=True, exist_ok=True)\n",
    "\n",
    "# ratings.dat\n",
    "ratings = pd.read_csv(RAW_PATH / \"ratings.dat\", delimiter=',')\n",
    "gender = pd.read_csv(RAW_PATH / \"gender.dat\", delimiter=',')\n",
    "ratings_test = pd.read_csv(RAW_PATH / \"ratings-Test.dat\", delimiter=',')"
   ]
  },
  {
   "cell_type": "markdown",
   "id": "ce73a73f",
   "metadata": {},
   "source": [
    "# Data types\n"
   ]
  },
  {
   "cell_type": "markdown",
   "id": "73bbcb10",
   "metadata": {},
   "source": [
    "## Raw memory usage "
   ]
  },
  {
   "cell_type": "code",
   "execution_count": 65,
   "id": "648bee66",
   "metadata": {},
   "outputs": [
    {
     "name": "stdout",
     "output_type": "stream",
     "text": [
      "ratings\n",
      "<class 'pandas.core.frame.DataFrame'>\n",
      "RangeIndex: 3220037 entries, 0 to 3220036\n",
      "Data columns (total 3 columns):\n",
      " #   Column     Dtype\n",
      "---  ------     -----\n",
      " 0   userID     int64\n",
      " 1   profileID  int64\n",
      " 2   rating     int64\n",
      "dtypes: int64(3)\n",
      "memory usage: 73.7 MB\n",
      "\n",
      "gender\n",
      "<class 'pandas.core.frame.DataFrame'>\n",
      "RangeIndex: 220969 entries, 0 to 220968\n",
      "Data columns (total 2 columns):\n",
      " #   Column  Non-Null Count   Dtype \n",
      "---  ------  --------------   ----- \n",
      " 0   1       220969 non-null  int64 \n",
      " 1   F       220969 non-null  object\n",
      "dtypes: int64(1), object(1)\n",
      "memory usage: 13.9 MB\n"
     ]
    }
   ],
   "source": [
    "print(\"ratings\")\n",
    "ratings.info(memory_usage='deep')\n",
    "\n",
    "print(\"\\ngender\")\n",
    "gender.info(memory_usage='deep')"
   ]
  },
  {
   "cell_type": "markdown",
   "id": "bb6dd8c4",
   "metadata": {},
   "source": [
    "## Defining a custom data type\n",
    "Trying to define a custom data type to better fit the data with less memory usage. \n",
    "However, the custom data type must be compatible torch."
   ]
  },
  {
   "cell_type": "code",
   "execution_count": 66,
   "id": "3f3d4978",
   "metadata": {},
   "outputs": [],
   "source": [
    "dtype_map = {\n",
    "    \"userID\": \"int64\",        # required by nn.Embedding → torch.long ~ 8 bytes\n",
    "    \"profileID\": \"int64\",     # same ~ 8 bytes\n",
    "    \"rating\": \"float32\",      # for training with MSELoss → torch.float32 ~ 4 bytes\n",
    "    \"gender\": \"category\"      # for training with CrossEntropyLoss → torch.int64 ~ 8 bytes\n",
    "}"
   ]
  },
  {
   "cell_type": "code",
   "execution_count": 67,
   "id": "418fb75d",
   "metadata": {},
   "outputs": [],
   "source": [
    "ratings = pd.read_csv(RAW_PATH / \"ratings.dat\", delimiter=',', dtype=dtype_map)\n",
    "gender = pd.read_csv(RAW_PATH / \"gender.dat\", header=None, names=[\"userID\", \"gender\"], delimiter=',', dtype=dtype_map)\n",
    "ratings_test = pd.read_csv(RAW_PATH / \"ratings-Test.dat\", delimiter=',', dtype=dtype_map)"
   ]
  },
  {
   "cell_type": "code",
   "execution_count": 68,
   "id": "9b595a88",
   "metadata": {},
   "outputs": [
    {
     "name": "stdout",
     "output_type": "stream",
     "text": [
      "<class 'pandas.core.frame.DataFrame'>\n",
      "RangeIndex: 3220037 entries, 0 to 3220036\n",
      "Data columns (total 3 columns):\n",
      " #   Column     Dtype  \n",
      "---  ------     -----  \n",
      " 0   userID     int64  \n",
      " 1   profileID  int64  \n",
      " 2   rating     float32\n",
      "dtypes: float32(1), int64(2)\n",
      "memory usage: 61.4 MB\n",
      "\n",
      "\n",
      "<class 'pandas.core.frame.DataFrame'>\n",
      "RangeIndex: 220970 entries, 0 to 220969\n",
      "Data columns (total 2 columns):\n",
      " #   Column  Non-Null Count   Dtype   \n",
      "---  ------  --------------   -----   \n",
      " 0   userID  220970 non-null  int64   \n",
      " 1   gender  220970 non-null  category\n",
      "dtypes: category(1), int64(1)\n",
      "memory usage: 1.9 MB\n"
     ]
    }
   ],
   "source": [
    "ratings.info(memory_usage='deep')\n",
    "print(\"\\n\")\n",
    "gender.info(memory_usage='deep')"
   ]
  },
  {
   "cell_type": "markdown",
   "id": "c5342eab",
   "metadata": {},
   "source": [
    "# Save the pickle files"
   ]
  },
  {
   "cell_type": "code",
   "execution_count": null,
   "id": "d37a2c7b",
   "metadata": {},
   "outputs": [],
   "source": [
    "ratings.to_pickle(PROCESSED_PATH / \"proc_ratings.pkl\")\n",
    "gender.to_pickle(PROCESSED_PATH / \"proc_gender.pkl\")\n",
    "ratings_test.to_pickle(PROCESSED_PATH / \"proc_ratings_test.pkl\")"
   ]
  }
 ],
 "metadata": {
  "kernelspec": {
   "display_name": "da-env",
   "language": "python",
   "name": "python3"
  },
  "language_info": {
   "codemirror_mode": {
    "name": "ipython",
    "version": 3
   },
   "file_extension": ".py",
   "mimetype": "text/x-python",
   "name": "python",
   "nbconvert_exporter": "python",
   "pygments_lexer": "ipython3",
   "version": "3.10.17"
  }
 },
 "nbformat": 4,
 "nbformat_minor": 5
}
