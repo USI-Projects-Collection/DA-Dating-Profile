{
 "cells": [
  {
   "cell_type": "code",
   "execution_count": 16,
   "id": "58adf448",
   "metadata": {},
   "outputs": [
    {
     "name": "stdout",
     "output_type": "stream",
     "text": [
      " *  *  *  *  *  *  *  *  *  *  *  *  *  *  *  *  *  *  *  * \n",
      "   userID  profileID  rating\n",
      "0  100596     197078       4\n",
      "1  100596     197136       5\n",
      "2  100596     197163       5\n",
      "3  100596     197224       4\n",
      "4  100596     197274       5\n",
      " *  *  *  *  *  *  *  *  *  *  *  *  *  *  *  *  *  *  *  * \n",
      "   1  F\n",
      "0  2  F\n",
      "1  3  U\n",
      "2  4  F\n",
      "3  5  F\n",
      "4  6  F\n",
      " *  *  *  *  *  *  *  *  *  *  *  *  *  *  *  *  *  *  *  * \n",
      "   userID  profileID  rating\n",
      "0  103155     101955       4\n",
      "1  103155     102751       1\n",
      "2  103155     105618       4\n",
      "3  103155     111862       9\n",
      "4  103155     120657       9\n"
     ]
    }
   ],
   "source": [
    "import pandas as pd\n",
    "from pathlib import Path\n",
    "\n",
    "PROJECT_ROOT = Path().resolve().parent\n",
    "RAW_PATH = PROJECT_ROOT / \"data\"\n",
    "PROCESSED_PATH = RAW_PATH / \"processed\"\n",
    "PROCESSED_PATH.mkdir(parents=True, exist_ok=True)\n",
    "\n",
    "# ratings.dat\n",
    "ratings = pd.read_csv(RAW_PATH / \"ratings.dat\", delimiter=',')\n",
    "ratings.to_pickle(PROCESSED_PATH / \"proc_ratings.pkl\")\n",
    "print(\" * \" * 20) \n",
    "print(ratings.head())\n",
    "\n",
    "# gender.dat\n",
    "gender = pd.read_csv(RAW_PATH / \"gender.dat\", delimiter=',')\n",
    "gender.to_pickle(PROCESSED_PATH / \"proc_gender.pkl\")\n",
    "print(\" * \" * 20)\n",
    "print(gender.head())\n",
    "\n",
    "# ratings-Test.dat\n",
    "ratings_test = pd.read_csv(RAW_PATH / \"ratings-Test.dat\", delimiter=',')\n",
    "ratings_test.to_pickle(PROCESSED_PATH / \"proc_ratings_test.pkl\")\n",
    "print(\" * \" * 20)\n",
    "print(ratings_test.head())"
   ]
  }
 ],
 "metadata": {
  "kernelspec": {
   "display_name": "da-env",
   "language": "python",
   "name": "python3"
  },
  "language_info": {
   "codemirror_mode": {
    "name": "ipython",
    "version": 3
   },
   "file_extension": ".py",
   "mimetype": "text/x-python",
   "name": "python",
   "nbconvert_exporter": "python",
   "pygments_lexer": "ipython3",
   "version": "3.10.17"
  }
 },
 "nbformat": 4,
 "nbformat_minor": 5
}
